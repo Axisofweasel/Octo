{
 "cells": [
  {
   "cell_type": "code",
   "execution_count": 1,
   "metadata": {},
   "outputs": [],
   "source": [
    "import os, uuid\n",
    "from dotenv import load_dotenv\n",
    "from azure.identity import DefaultAzureCredential\n",
    "from azure.storage.blob import BlobServiceClient, BlobClient, ContainerClient"
   ]
  },
  {
   "cell_type": "markdown",
   "metadata": {},
   "source": [
    "Connect with Azure DefaultCredentials"
   ]
  },
  {
   "cell_type": "code",
   "execution_count": 2,
   "metadata": {},
   "outputs": [],
   "source": [
    "load_dotenv()\n",
    "\n",
    "account_url = os.getenv('BLOBSTORAGE')\n",
    "\n",
    "default_credential = DefaultAzureCredential()\n",
    "blob_service_client = BlobServiceClient(account_url)"
   ]
  },
  {
   "cell_type": "markdown",
   "metadata": {},
   "source": [
    "Create container "
   ]
  },
  {
   "cell_type": "code",
   "execution_count": 4,
   "metadata": {},
   "outputs": [
    {
     "name": "stdout",
     "output_type": "stream",
     "text": [
      "electric\n",
      "Blobs in container 'electric':\n"
     ]
    }
   ],
   "source": [
    "container_name = 'electric'\n",
    "containers = blob_service_client.list_containers(include_metadata=True)\n",
    "\n",
    "for container in containers:\n",
    "    if container['name'] == container_name:\n",
    "        print(container['name'])\n",
    "        # Get the container client\n",
    "        container_client = blob_service_client.get_container_client(container_name)\n",
    "        \n",
    "        # List blobs in the container\n",
    "        blob_list = container_client.list_blobs()\n",
    "        \n",
    "        print(f\"Blobs in container '{container_name}':\")\n",
    "        for blob in blob_list:\n",
    "            print(blob.name)\n"
   ]
  },
  {
   "cell_type": "code",
   "execution_count": 4,
   "metadata": {},
   "outputs": [],
   "source": [
    "file_name = 'storage_test_file.txt'\n",
    "os.getcwd()\n",
    "os.path.exists('/Users/chris/Documents/Octopus Project/Octo/Jobs/'+file_name)\n",
    "file_path = '/Users/chris/Documents/Octopus Project/Octo/Jobs/'+file_name"
   ]
  },
  {
   "cell_type": "code",
   "execution_count": 5,
   "metadata": {},
   "outputs": [],
   "source": [
    "blob_name = 'test/'+file_name\n",
    "blob_client = blob_service_client.get_blob_client(container=container_name, blob=blob_name)"
   ]
  },
  {
   "cell_type": "code",
   "execution_count": 6,
   "metadata": {},
   "outputs": [],
   "source": [
    "with open(file=file_path, mode = 'rb') as data:\n",
    "    blob_client.upload_blob(data)"
   ]
  }
 ],
 "metadata": {
  "kernelspec": {
   "display_name": "Octo-Sg62pS96",
   "language": "python",
   "name": "python3"
  },
  "language_info": {
   "codemirror_mode": {
    "name": "ipython",
    "version": 3
   },
   "file_extension": ".py",
   "mimetype": "text/x-python",
   "name": "python",
   "nbconvert_exporter": "python",
   "pygments_lexer": "ipython3",
   "version": "3.11.8"
  }
 },
 "nbformat": 4,
 "nbformat_minor": 2
}
